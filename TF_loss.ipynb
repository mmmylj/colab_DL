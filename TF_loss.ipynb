{
  "nbformat": 4,
  "nbformat_minor": 0,
  "metadata": {
    "colab": {
      "name": "TF_loss.ipynb",
      "version": "0.3.2",
      "provenance": [],
      "include_colab_link": true
    },
    "kernelspec": {
      "name": "python3",
      "display_name": "Python 3"
    },
    "accelerator": "TPU"
  },
  "cells": [
    {
      "cell_type": "markdown",
      "metadata": {
        "id": "view-in-github",
        "colab_type": "text"
      },
      "source": [
        "<a href=\"https://colab.research.google.com/github/mmmylj/colab_DL/blob/master/TF_loss.ipynb\" target=\"_parent\"><img src=\"https://colab.research.google.com/assets/colab-badge.svg\" alt=\"Open In Colab\"/></a>"
      ]
    },
    {
      "metadata": {
        "id": "I47rjoqQ7Gll",
        "colab_type": "text"
      },
      "cell_type": "markdown",
      "source": [
        "交叉熵实验"
      ]
    },
    {
      "metadata": {
        "id": "bZRqbx3L4eyv",
        "colab_type": "code",
        "colab": {
          "base_uri": "https://localhost:8080/",
          "height": 341
        },
        "outputId": "ebeb4449-4288-4c5b-99ea-2a40e0375a59"
      },
      "cell_type": "code",
      "source": [
        "import tensorflow as tf\n",
        "\n",
        "labels = [[0,0,1],[0,1,0]]\n",
        "logits = [[2,0.5,6],[0.1,0,3]]\n",
        "logits_scaled = tf.nn.softmax(logits)\n",
        "logits_scaled2 = tf.nn.softmax(logits_scaled)\n",
        "\n",
        "result1 = tf.nn.softmax_cross_entropy_with_logits(labels=labels, logits=logits)\n",
        "result2 = tf.nn.softmax_cross_entropy_with_logits(labels=labels, logits=logits_scaled)\n",
        "result3 = -tf.reduce_sum(labels*tf.log(logits_scaled),1)\n",
        "\n",
        "with tf.Session() as sess:\n",
        "    print (\"scaled=\",sess.run(logits_scaled))\n",
        "    print (\"scaled2=\",sess.run(logits_scaled2))\n",
        "    \n",
        "    print (\"rell=\",sess.run(result1),\"\\n\")\n",
        "    print (\"rel2=\",sess.run(result2),\"\\n\")\n",
        "    print (\"rel3=\",sess.run(result3),\"\\n\")"
      ],
      "execution_count": 1,
      "outputs": [
        {
          "output_type": "stream",
          "text": [
            "WARNING:tensorflow:From <ipython-input-1-81c0d1401635>:8: softmax_cross_entropy_with_logits (from tensorflow.python.ops.nn_ops) is deprecated and will be removed in a future version.\n",
            "Instructions for updating:\n",
            "\n",
            "Future major versions of TensorFlow will allow gradients to flow\n",
            "into the labels input on backprop by default.\n",
            "\n",
            "See `tf.nn.softmax_cross_entropy_with_logits_v2`.\n",
            "\n",
            "scaled= [[0.01791432 0.00399722 0.97808844]\n",
            " [0.04980332 0.04506391 0.90513283]]\n",
            "scaled2= [[0.21747023 0.21446465 0.56806517]\n",
            " [0.2300214  0.22893383 0.5410447 ]]\n",
            "rell= [0.02215516 3.0996735 ] \n",
            "\n",
            "rel2= [0.56551915 1.4743223 ] \n",
            "\n",
            "rel3= 3.1218288 \n",
            "\n"
          ],
          "name": "stdout"
        }
      ]
    },
    {
      "metadata": {
        "id": "AeeFxl3CXBaX",
        "colab_type": "text"
      },
      "cell_type": "markdown",
      "source": [
        "softmax_cross_entropy_with_logits 输入参数不需要softmax层处理，softmax处理后的结果交叉熵需要自己定义lossfunction"
      ]
    },
    {
      "metadata": {
        "id": "sPxHpS5Z8piP",
        "colab_type": "code",
        "colab": {
          "base_uri": "https://localhost:8080/",
          "height": 53
        },
        "outputId": "2798e576-3a94-4df0-c965-78e661fb7869"
      },
      "cell_type": "code",
      "source": [
        "labels = [2,1]\n",
        "result4 = tf.nn.sparse_softmax_cross_entropy_with_logits(labels=labels, logits=logits)\n",
        "with tf.Session() as sess:\n",
        "    print(\"rel4=\",sess.run(result4),\"\\n\")"
      ],
      "execution_count": 10,
      "outputs": [
        {
          "output_type": "stream",
          "text": [
            "rel4= [0.02215516 3.0996735 ] \n",
            "\n"
          ],
          "name": "stdout"
        }
      ]
    },
    {
      "metadata": {
        "id": "gdyMLijkaTwH",
        "colab_type": "text"
      },
      "cell_type": "markdown",
      "source": [
        "sparse_softmax_cross_entropy_with_logits 输出参数为具体标签，不用one-hot编码"
      ]
    },
    {
      "metadata": {
        "id": "M8QOtj2NUZuK",
        "colab_type": "text"
      },
      "cell_type": "markdown",
      "source": [
        "在网络中损失函数必须为一个数值而非是一个list，需要对得到的交叉熵list进行求平均！\n",
        "方法如下！"
      ]
    },
    {
      "metadata": {
        "id": "0RBPYM_3ZCjR",
        "colab_type": "code",
        "colab": {
          "base_uri": "https://localhost:8080/",
          "height": 53
        },
        "outputId": "dc58124e-36a0-4f2d-fad1-5b87a6a2769a"
      },
      "cell_type": "code",
      "source": [
        "loss1 = tf.reduce_sum(result1)\n",
        "labels = [[0,0,1],[0,1,0]]\n",
        "loss2 = -tf.reduce_sum(labels * tf.log(logits_scaled))\n",
        "with tf.Session() as sess:\n",
        "    print(\"loss1:\",sess.run(loss1))\n",
        "    print(\"loss2:\",sess.run(loss2))"
      ],
      "execution_count": 3,
      "outputs": [
        {
          "output_type": "stream",
          "text": [
            "loss1: 3.1218286\n",
            "loss2: 3.1218288\n"
          ],
          "name": "stdout"
        }
      ]
    },
    {
      "metadata": {
        "id": "zxby1nGTV0hs",
        "colab_type": "code",
        "colab": {}
      },
      "cell_type": "code",
      "source": [
        ""
      ],
      "execution_count": 0,
      "outputs": []
    }
  ]
}