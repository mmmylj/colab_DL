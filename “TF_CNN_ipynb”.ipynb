{
  "nbformat": 4,
  "nbformat_minor": 0,
  "metadata": {
    "colab": {
      "name": "“TF_CNN.ipynb”",
      "version": "0.3.2",
      "provenance": [],
      "collapsed_sections": [],
      "include_colab_link": true
    },
    "kernelspec": {
      "name": "python3",
      "display_name": "Python 3"
    },
    "accelerator": "TPU"
  },
  "cells": [
    {
      "cell_type": "markdown",
      "metadata": {
        "id": "view-in-github",
        "colab_type": "text"
      },
      "source": [
        "<a href=\"https://colab.research.google.com/github/mmmylj/colab_DL/blob/master/%E2%80%9CTF_CNN_ipynb%E2%80%9D.ipynb\" target=\"_parent\"><img src=\"https://colab.research.google.com/assets/colab-badge.svg\" alt=\"Open In Colab\"/></a>"
      ]
    },
    {
      "metadata": {
        "id": "S_ToacUZlPmq",
        "colab_type": "code",
        "outputId": "124b18b7-c3d7-48e2-b0ef-8cf7e4522169",
        "colab": {
          "base_uri": "https://localhost:8080/",
          "height": 361
        }
      },
      "cell_type": "code",
      "source": [
        "!apt-get install -y -qq software-properties-common python-software-properties module-init-tools\n",
        "!add-apt-repository -y ppa:alessandro-strada/ppa 2>&1 > /dev/null\n",
        "!apt-get update -qq 2>&1 > /dev/null\n",
        "!apt-get -y install -qq google-drive-ocamlfuse fuse\n",
        "from google.colab import auth\n",
        "auth.authenticate_user()\n",
        "from oauth2client.client import GoogleCredentials\n",
        "creds = GoogleCredentials.get_application_default()\n",
        "import getpass\n",
        "!google-drive-ocamlfuse -headless -id={creds.client_id} -secret={creds.client_secret} < /dev/null 2>&1 | grep URL\n",
        "vcode = getpass.getpass()\n",
        "!echo {vcode} | google-drive-ocamlfuse -headless -id={creds.client_id} -secret={creds.client_secret}"
      ],
      "execution_count": 1,
      "outputs": [
        {
          "output_type": "stream",
          "text": [
            "E: Package 'python-software-properties' has no installation candidate\n",
            "Selecting previously unselected package google-drive-ocamlfuse.\n",
            "(Reading database ... 131323 files and directories currently installed.)\n",
            "Preparing to unpack .../google-drive-ocamlfuse_0.7.1-0ubuntu3~ubuntu18.04.1_amd64.deb ...\n",
            "Unpacking google-drive-ocamlfuse (0.7.1-0ubuntu3~ubuntu18.04.1) ...\n",
            "Setting up google-drive-ocamlfuse (0.7.1-0ubuntu3~ubuntu18.04.1) ...\n",
            "Processing triggers for man-db (2.8.3-2ubuntu0.1) ...\n",
            "\n",
            "WARNING: The TensorFlow contrib module will not be included in TensorFlow 2.0.\n",
            "For more information, please see:\n",
            "  * https://github.com/tensorflow/community/blob/master/rfcs/20180907-contrib-sunset.md\n",
            "  * https://github.com/tensorflow/addons\n",
            "If you depend on functionality not listed there, please file an issue.\n",
            "\n",
            "Please, open the following URL in a web browser: https://accounts.google.com/o/oauth2/auth?client_id=32555940559.apps.googleusercontent.com&redirect_uri=urn%3Aietf%3Awg%3Aoauth%3A2.0%3Aoob&scope=https%3A%2F%2Fwww.googleapis.com%2Fauth%2Fdrive&response_type=code&access_type=offline&approval_prompt=force\n",
            "··········\n",
            "Please, open the following URL in a web browser: https://accounts.google.com/o/oauth2/auth?client_id=32555940559.apps.googleusercontent.com&redirect_uri=urn%3Aietf%3Awg%3Aoauth%3A2.0%3Aoob&scope=https%3A%2F%2Fwww.googleapis.com%2Fauth%2Fdrive&response_type=code&access_type=offline&approval_prompt=force\n",
            "Please enter the verification code: Access token retrieved correctly.\n"
          ],
          "name": "stdout"
        }
      ]
    },
    {
      "metadata": {
        "id": "X_rKcdcA4hs0",
        "colab_type": "code",
        "colab": {}
      },
      "cell_type": "code",
      "source": [
        "!mkdir -p drive\n",
        "!google-drive-ocamlfuse drive"
      ],
      "execution_count": 0,
      "outputs": []
    },
    {
      "metadata": {
        "id": "6_X3-BLCIZpU",
        "colab_type": "code",
        "colab": {}
      },
      "cell_type": "code",
      "source": [
        "import tensorflow as tf\n",
        "import pylab\n",
        "import os\n",
        "import numpy as np\n",
        "from six.moves import xrange"
      ],
      "execution_count": 0,
      "outputs": []
    },
    {
      "metadata": {
        "id": "YFP-ckVrw2mp",
        "colab_type": "text"
      },
      "cell_type": "markdown",
      "source": [
        "随机处理图片方法"
      ]
    },
    {
      "metadata": {
        "id": "YUeZdJZUwvkk",
        "colab_type": "code",
        "colab": {}
      },
      "cell_type": "code",
      "source": [
        "#随机裁剪     \n",
        "#     distorted_image = tf.random_crop(reshaped_image, [height, width, 3])\n",
        "\n",
        "#随机水平翻转     \n",
        "#     distorted_image = tf.image.random_flip_left_right(distorted_image)\n",
        "\n",
        "#随机图片亮度\n",
        "#     distorted_image = tf.image.random_brightness(distorted_image,\n",
        "#随机图片对比度                                                  max_delta=63)\n",
        "#     distorted_image = tf.image.random_contrast(distorted_image,\n",
        "#                                                lower=0.2, upper=1.8)\n",
        "\n",
        "#减去均值，除以方差，图片标准化\n",
        "#     float_image = tf.image.per_image_standardization(distorted_image)"
      ],
      "execution_count": 0,
      "outputs": []
    },
    {
      "metadata": {
        "id": "MPV1u26WXABH",
        "colab_type": "text"
      },
      "cell_type": "markdown",
      "source": [
        "queue 方法读取 cifar数据集"
      ]
    },
    {
      "metadata": {
        "id": "9oclHUzrUVnQ",
        "colab_type": "code",
        "colab": {}
      },
      "cell_type": "code",
      "source": [
        "def _generate_image_and_label_batch(image, label, min_queue_examples,\n",
        "                                    batch_size, shuffle):\n",
        "\n",
        "  # Create a queue that shuffles the examples, and then\n",
        "  # read 'batch_size' images + labels from the example queue.\n",
        "  num_preprocess_threads = 16\n",
        "  if shuffle:\n",
        "    images, label_batch = tf.train.shuffle_batch(\n",
        "        [image, label],\n",
        "        batch_size=batch_size,\n",
        "        num_threads=num_preprocess_threads,\n",
        "        capacity=min_queue_examples + 3 * batch_size,\n",
        "        min_after_dequeue=min_queue_examples)\n",
        "  else:\n",
        "    images, label_batch = tf.train.batch(\n",
        "        [image, label],\n",
        "        batch_size=batch_size,\n",
        "        num_threads=num_preprocess_threads,\n",
        "        capacity=min_queue_examples + 3 * batch_size)\n",
        "      # Display the training images in the visualizer.\n",
        "  tf.summary.image('images', images)\n",
        "\n",
        "  return images, tf.reshape(label_batch, [batch_size])"
      ],
      "execution_count": 0,
      "outputs": []
    },
    {
      "metadata": {
        "id": "zJoWkZFX54ni",
        "colab_type": "code",
        "colab": {
          "base_uri": "https://localhost:8080/",
          "height": 163
        },
        "outputId": "8fbcfd07-5119-4f6f-e497-62028ae5ff95"
      },
      "cell_type": "code",
      "source": [
        "#data_dir = ['drive/cifar_10_database/data_batch_%d.bin' %i  for i in xrange(1, 6)]\n",
        "data_dir = ['drive/cifar_10_database/data_batch_1.bin' ]\n",
        "print (data_dir)\n",
        "\n",
        "#duilde filename equaue\n",
        "filename_equaue = tf.train.string_input_producer(data_dir)\n",
        "label_bytes = 1\n",
        "height = 32\n",
        "width = 32\n",
        "depth = 3\n",
        "image_bytes= 32*32*3\n",
        "reader = tf.FixedLengthRecordReader(image_bytes + label_bytes)\n",
        "key , value = reader.read(filename_equaue)\n",
        "record_bytes = tf.decode_raw(value, tf.uint8)\n",
        "label = tf.cast(\n",
        "      tf.strided_slice(record_bytes, [0], [label_bytes]), tf.int32)\n",
        "depth_major = tf.reshape(\n",
        "      tf.strided_slice(record_bytes, [label_bytes],\n",
        "                       [label_bytes + image_bytes]),\n",
        "      [depth, height, width])\n",
        "\n",
        "uint8image = tf.transpose(depth_major, [1, 2, 0])\n",
        "reshaped_image = tf.cast(uint8image, tf.float32)\n",
        "height = 32\n",
        "width = 32\n",
        "resized_image = tf.image.resize_image_with_crop_or_pad(reshaped_image,\n",
        "                                                           height, width)\n",
        "# Subtract off the mean and divide by the variance of the pixels.\n",
        "float_image = tf.image.per_image_standardization(resized_image)\n",
        "\n",
        "# Set the shapes of tensors.\n",
        "float_image.set_shape([height, width, 3])\n",
        "label.set_shape([1])\n",
        "num_examples_per_epoch = 50000\n",
        "# Ensure that the random shuffling has good mixing properties.\n",
        "min_fraction_of_examples_in_queue = 0.4\n",
        "min_queue_examples = int(num_examples_per_epoch *\n",
        "                         min_fraction_of_examples_in_queue)\n"
      ],
      "execution_count": 6,
      "outputs": [
        {
          "output_type": "stream",
          "text": [
            "['drive/cifar_10_database/data_batch_1.bin']\n",
            "WARNING:tensorflow:From /usr/local/lib/python3.6/dist-packages/tensorflow/python/ops/control_flow_ops.py:3632: colocate_with (from tensorflow.python.framework.ops) is deprecated and will be removed in a future version.\n",
            "Instructions for updating:\n",
            "Colocations handled automatically by placer.\n",
            "WARNING:tensorflow:From /usr/local/lib/python3.6/dist-packages/tensorflow/python/ops/image_ops_impl.py:1241: div (from tensorflow.python.ops.math_ops) is deprecated and will be removed in a future version.\n",
            "Instructions for updating:\n",
            "Deprecated in favor of operator or tf.math.divide.\n"
          ],
          "name": "stdout"
        }
      ]
    },
    {
      "metadata": {
        "id": "ho5I_QE4cQky",
        "colab_type": "code",
        "colab": {
          "base_uri": "https://localhost:8080/",
          "height": 1357
        },
        "outputId": "03a54bc1-4c44-4cf1-9086-1dfeeb906203"
      },
      "cell_type": "code",
      "source": [
        "batch_size = 128\n",
        "images_test, labels_test = _generate_image_and_label_batch(float_image, label,\n",
        "                                         min_queue_examples, batch_size,\n",
        "                                         shuffle=False)\n",
        "sess = tf.InteractiveSession()\n",
        "tf.global_variables_initializer().run()\n",
        "tf.train.start_queue_runners()\n",
        "image_batch, label_batch = sess.run([images_test, labels_test])\n",
        "print('\\n', image_batch[0])\n",
        "print('\\n', label_batch[0])\n",
        "pylab.imshow(image_batch[0])\n",
        "pylab.show()"
      ],
      "execution_count": 9,
      "outputs": [
        {
          "output_type": "stream",
          "text": [
            "/usr/local/lib/python3.6/dist-packages/tensorflow/python/client/session.py:1702: UserWarning: An interactive session is already active. This can cause out-of-memory errors in some cases. You must explicitly call `InteractiveSession.close()` to release resources held by the other session(s).\n",
            "  warnings.warn('An interactive session is already active. This can '\n",
            "Clipping input data to the valid range for imshow with RGB data ([0..1] for floats or [0..255] for integers).\n"
          ],
          "name": "stderr"
        },
        {
          "output_type": "stream",
          "text": [
            "\n",
            " [[[-2.6304090e-01 -2.9606342e-01 -1.9699585e-01]\n",
            "  [ 4.3043208e-01  2.9834199e-01  2.9834199e-01]\n",
            "  [ 1.8834231e+00  1.5201753e+00  1.3220402e+00]\n",
            "  ...\n",
            "  [-7.5837874e-01 -1.0886040e+00 -1.2206941e+00]\n",
            "  [ 2.9834199e-01  1.1392811e-03 -3.9513099e-01]\n",
            "  [ 5.9554470e-01  2.3229694e-01 -1.6397333e-01]]\n",
            "\n",
            " [[-1.5178968e+00 -1.4848742e+00 -1.3527842e+00]\n",
            "  [-7.9140127e-01 -8.2442379e-01 -6.2628865e-01]\n",
            "  [ 5.2949965e-01  1.9927442e-01  6.7184329e-02]\n",
            "  ...\n",
            "  [ 8.5972488e-01  5.6252217e-01 -1.9699585e-01]\n",
            "  [ 1.0248375e+00  7.6065731e-01 -9.7928286e-02]\n",
            "  [ 9.2576993e-01  6.2856722e-01 -2.3001838e-01]]\n",
            "\n",
            " [[-1.2206941e+00 -1.3527842e+00 -1.3527842e+00]\n",
            "  [-1.3527842e+00 -1.3527842e+00 -1.1876715e+00]\n",
            "  [-8.2442379e-01 -8.5744631e-01 -5.6024361e-01]\n",
            "  ...\n",
            "  [ 1.2559952e+00  7.9367983e-01 -9.7928286e-02]\n",
            "  [ 1.1239051e+00  6.2856722e-01 -1.9699585e-01]\n",
            "  [ 1.2559952e+00  7.2763479e-01 -9.7928286e-02]]\n",
            "\n",
            " ...\n",
            "\n",
            " [[ 6.9461226e-01  5.6252217e-01 -6.5931118e-01]\n",
            "  [ 5.2949965e-01  3.3136451e-01 -9.2349136e-01]\n",
            "  [ 4.6345460e-01  2.9834199e-01 -1.0225589e+00]\n",
            "  ...\n",
            "  [ 4.9647713e-01  2.9834199e-01 -8.2442379e-01]\n",
            "  [ 4.6345460e-01  4.3043208e-01 -6.9233370e-01]\n",
            "  [ 2.3229694e-01  2.6531947e-01 -1.0225589e+00]]\n",
            "\n",
            " [[ 9.2576993e-01  7.6065731e-01 -4.2815351e-01]\n",
            "  [ 8.9274740e-01  6.6158974e-01 -4.9419856e-01]\n",
            "  [ 8.5972488e-01  5.2949965e-01 -5.6024361e-01]\n",
            "  ...\n",
            "  [ 1.1392811e-03 -1.3095081e-01 -1.1876715e+00]\n",
            "  [ 1.9927442e-01  6.7184329e-02 -8.5744631e-01]\n",
            "  [ 1.0020685e-01 -3.1883243e-02 -1.0555815e+00]]\n",
            "\n",
            " [[ 8.2670236e-01  5.6252217e-01 -4.2815351e-01]\n",
            "  [ 8.2670236e-01  5.2949965e-01 -4.9419856e-01]\n",
            "  [ 9.2576993e-01  5.9554470e-01 -4.9419856e-01]\n",
            "  ...\n",
            "  [ 1.0020685e-01 -4.6117604e-01 -1.0555815e+00]\n",
            "  [ 2.6531947e-01 -1.3095081e-01 -9.2349136e-01]\n",
            "  [ 5.2949965e-01  1.1392811e-03 -5.9326613e-01]]]\n",
            "\n",
            " 2\n"
          ],
          "name": "stdout"
        },
        {
          "output_type": "display_data",
          "data": {
            "image/png": "[encoded data removed]",
            "text/plain": [
              "<Figure size 576x396 with 1 Axes>"
            ]
          },
          "metadata": {
            "tags": []
          }
        }
      ]
    },
    {
      "metadata": {
        "id": "WoQC-ct6WldO",
        "colab_type": "code",
        "colab": {}
      },
      "cell_type": "code",
      "source": [
        ""
      ],
      "execution_count": 0,
      "outputs": []
    }
  ]
}