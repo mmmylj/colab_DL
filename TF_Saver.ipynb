{
  "nbformat": 4,
  "nbformat_minor": 0,
  "metadata": {
    "colab": {
      "name": "TF_Saver.ipynb",
      "version": "0.3.2",
      "provenance": [],
      "include_colab_link": true
    },
    "kernelspec": {
      "name": "python3",
      "display_name": "Python 3"
    }
  },
  "cells": [
    {
      "cell_type": "markdown",
      "metadata": {
        "id": "view-in-github",
        "colab_type": "text"
      },
      "source": [
        "<a href=\"https://colab.research.google.com/github/mmmylj/colab_DL/blob/master/TF_Saver.ipynb\" target=\"_parent\"><img src=\"https://colab.research.google.com/assets/colab-badge.svg\" alt=\"Open In Colab\"/></a>"
      ]
    },
    {
      "metadata": {
        "id": "QOzC7hBosajG",
        "colab_type": "code",
        "colab": {}
      },
      "cell_type": "code",
      "source": [
        "import tensorflow as tf\n",
        "import numpy as np\n",
        "import matplotlib.pyplot as plt"
      ],
      "execution_count": 0,
      "outputs": []
    },
    {
      "metadata": {
        "id": "3oeHczHpsy_9",
        "colab_type": "code",
        "outputId": "c25d8634-33d1-4997-ca47-706208368891",
        "colab": {
          "base_uri": "https://localhost:8080/",
          "height": 563
        }
      },
      "cell_type": "code",
      "source": [
        "from tensorflow.examples.tutorials.mnist import input_data\n",
        "mnist = input_data.read_data_sets(\"MNIST_data/\", one_hot=True)\n",
        "print ('输入数据:', mnist.train.images)\n",
        "print (\"输入数据shape：\", mnist.train.images.shape)\n",
        "im = mnist.train.images[1]\n",
        "im = im.reshape(-1,28)\n",
        "plt.imshow(im)\n",
        "plt.show()"
      ],
      "execution_count": 12,
      "outputs": [
        {
          "output_type": "stream",
          "text": [
            "Extracting MNIST_data/train-images-idx3-ubyte.gz\n",
            "Extracting MNIST_data/train-labels-idx1-ubyte.gz\n",
            "Extracting MNIST_data/t10k-images-idx3-ubyte.gz\n",
            "Extracting MNIST_data/t10k-labels-idx1-ubyte.gz\n",
            "输入数据: [[0. 0. 0. ... 0. 0. 0.]\n",
            " [0. 0. 0. ... 0. 0. 0.]\n",
            " [0. 0. 0. ... 0. 0. 0.]\n",
            " ...\n",
            " [0. 0. 0. ... 0. 0. 0.]\n",
            " [0. 0. 0. ... 0. 0. 0.]\n",
            " [0. 0. 0. ... 0. 0. 0.]]\n",
            "输入数据shape： (55000, 784)\n"
          ],
          "name": "stdout"
        },
        {
          "output_type": "display_data",
          "data": {
            "image/png": "[encoded data removed]",
            "text/plain": [
              "<Figure size 576x396 with 1 Axes>"
            ]
          },
          "metadata": {
            "tags": []
          }
        }
      ]
    },
    {
      "metadata": {
        "id": "sTFp98fxtt09",
        "colab_type": "code",
        "colab": {
          "base_uri": "https://localhost:8080/",
          "height": 53
        },
        "outputId": "c6fac6d4-6714-430d-f0a8-4f9e9a06c09c"
      },
      "cell_type": "code",
      "source": [
        "print (\"测试数据集shape：\", mnist.test.images.shape)\n",
        "print (\"验证数据集shape：\", mnist.validation.images.shape)"
      ],
      "execution_count": 15,
      "outputs": [
        {
          "output_type": "stream",
          "text": [
            "测试数据集shape： (10000, 784)\n",
            "验证数据集shape： (5000, 784)\n"
          ],
          "name": "stdout"
        }
      ]
    },
    {
      "metadata": {
        "id": "tvRsBI6dGgGP",
        "colab_type": "code",
        "colab": {}
      },
      "cell_type": "code",
      "source": [
        "#forward\n",
        "tf.reset_default_graph()\n",
        "x = tf.placeholder(tf.float32, [None, 784]) #28*28=784\n",
        "y = tf.placeholder(tf.float32, [10])\n",
        "w = tf.Variable(tf.random_normal(([784,10])))\n",
        "b = tf.Variable(tf.zeros[10])\n",
        "pred = tf.nn.softmax(tf.matmul(x, w) + b)\n",
        "\n",
        "#backward\n",
        "cost = tf.reduce_mean(-tf.reduce_sum(y*tf.log(pred), reduction_indices=1))\n",
        "learning_rate = 0.01\n",
        "optimizer = tf.train.GradientDescentOptimizer(learning_rate).minimize(cost)\n",
        "training_epochs = 25\n",
        "batch_size = 100\n",
        "display_step = 1\n",
        "\n",
        "#run Session\n",
        "with tf.Session() as sess:\n",
        "    #initial variable\n",
        "    sess.run(tf.global_variables_initializer())\n",
        "    #begain train\n",
        "    for epoch in range(training_epochs):\n",
        "        avg_cost = 0.\n",
        "        total_batch = int(mnist.train.num_examples/batch_size)\n",
        "        for i in range(total_batch):\n",
        "            batch_xs, batch_ys = mnist.train.next_batch(batch_size)\n",
        "            _,y = sess.run([optimizer, cost], feed_dict={x:batch_xs, y:batch_ys})\n",
        "            avg_cost += c/total_batch\n",
        "        if (epoch+1) % display_batch == 0:\n",
        "            print (\"Epoch:\", '%04d',%(epoch+1), \"Cost=\", \"{:.9f}\".format(avg_cost))\n",
        "    print(\"Finished!\")\n",
        "            "
      ],
      "execution_count": 0,
      "outputs": []
    }
  ]
}