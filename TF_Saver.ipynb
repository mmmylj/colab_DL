{
  "nbformat": 4,
  "nbformat_minor": 0,
  "metadata": {
    "colab": {
      "name": "TF_Saver.ipynb",
      "version": "0.3.2",
      "provenance": [],
      "collapsed_sections": [],
      "include_colab_link": true
    },
    "kernelspec": {
      "name": "python3",
      "display_name": "Python 3"
    },
    "accelerator": "GPU"
  },
  "cells": [
    {
      "cell_type": "markdown",
      "metadata": {
        "id": "view-in-github",
        "colab_type": "text"
      },
      "source": [
        "<a href=\"https://colab.research.google.com/github/mmmylj/colab_DL/blob/master/TF_Saver.ipynb\" target=\"_parent\"><img src=\"https://colab.research.google.com/assets/colab-badge.svg\" alt=\"Open In Colab\"/></a>"
      ]
    },
    {
      "metadata": {
        "id": "QOzC7hBosajG",
        "colab_type": "code",
        "colab": {}
      },
      "cell_type": "code",
      "source": [
        "import tensorflow as tf\n",
        "import numpy as np\n",
        "import matplotlib.pyplot as plt"
      ],
      "execution_count": 0,
      "outputs": []
    },
    {
      "metadata": {
        "id": "3oeHczHpsy_9",
        "colab_type": "code",
        "colab": {}
      },
      "cell_type": "code",
      "source": [
        "from tensorflow.examples.tutorials.mnist import input_data\n",
        "mnist = input_data.read_data_sets(\"MNIST_data/\", one_hot=True)\n",
        "print ('输入数据:', mnist.train.images)\n",
        "print (\"输入数据shape：\", mnist.train.images.shape)\n",
        "im = mnist.train.images[1]\n",
        "im = im.reshape(-1,28)\n",
        "plt.imshow(im)\n",
        "plt.show()"
      ],
      "execution_count": 0,
      "outputs": []
    },
    {
      "metadata": {
        "id": "sTFp98fxtt09",
        "colab_type": "code",
        "outputId": "abb0a36f-0f71-49c6-e72c-0814cc8fac00",
        "colab": {
          "base_uri": "https://localhost:8080/",
          "height": 53
        }
      },
      "cell_type": "code",
      "source": [
        "print (\"测试数据集shape：\", mnist.test.images.shape)\n",
        "print (\"验证数据集shape：\", mnist.validation.images.shape)"
      ],
      "execution_count": 0,
      "outputs": [
        {
          "output_type": "stream",
          "text": [
            "测试数据集shape： (10000, 784)\n",
            "验证数据集shape： (5000, 784)\n"
          ],
          "name": "stdout"
        }
      ]
    },
    {
      "metadata": {
        "id": "tvRsBI6dGgGP",
        "colab_type": "code",
        "outputId": "017c4f08-9b16-424d-8803-8ad7ad4f622f",
        "colab": {
          "base_uri": "https://localhost:8080/",
          "height": 125
        }
      },
      "cell_type": "code",
      "source": [
        "#forward\n",
        "tf.reset_default_graph()\n",
        "x = tf.placeholder(tf.float32, [None, 784]) #28*28=784\n",
        "y = tf.placeholder(tf.float32, [None, 10])\n",
        "w = tf.Variable(tf.random_normal(([784,10])))\n",
        "b = tf.Variable(tf.zeros([10]))\n",
        "pred = tf.nn.softmax(tf.matmul(x, w) + b)\n",
        "\n",
        "#backward\n",
        "cost = tf.reduce_mean(-tf.reduce_sum(y*tf.log(pred), reduction_indices=1))\n",
        "learning_rate = 0.01\n",
        "optimizer = tf.train.GradientDescentOptimizer(learning_rate).minimize(cost)\n",
        "training_epochs = 50\n",
        "batch_size = 100\n",
        "display_step = 10\n",
        "\n",
        "#run Session\n",
        "with tf.Session() as sess:\n",
        "    with tf.device(\"/gpu:0\"):\n",
        "    #initial variable\n",
        "        sess.run(tf.global_variables_initializer())\n",
        "        #begain train\n",
        "        for epoch in range(training_epochs):\n",
        "            avg_cost = 0.\n",
        "            total_batch = int(mnist.train.num_examples/batch_size)\n",
        "            for i in range(total_batch):\n",
        "                batch_xs, batch_ys = mnist.train.next_batch(batch_size)\n",
        "                _,c = sess.run([optimizer, cost], feed_dict={x:batch_xs, y:batch_ys})\n",
        "                avg_cost += c/total_batch\n",
        "            if (epoch+1) % display_step == 0:\n",
        "                print (\"Epoch:\", '%04d'%(epoch+1), \"Cost=\", \"{:.9f}\".format(avg_cost))\n",
        "        print(\"Finished!\")"
      ],
      "execution_count": 7,
      "outputs": [
        {
          "output_type": "stream",
          "text": [
            "Epoch: 0010 Cost= 1.306213660\n",
            "Epoch: 0020 Cost= 0.932825139\n",
            "Epoch: 0030 Cost= 0.790964622\n",
            "Epoch: 0040 Cost= 0.709309278\n",
            "Epoch: 0050 Cost= 0.653817959\n",
            "Finished!\n"
          ],
          "name": "stdout"
        }
      ]
    },
    {
      "metadata": {
        "id": "q9h70kreUDHA",
        "colab_type": "code",
        "colab": {}
      },
      "cell_type": "code",
      "source": [
        "#test model\n",
        "    "
      ],
      "execution_count": 0,
      "outputs": []
    }
  ]
}