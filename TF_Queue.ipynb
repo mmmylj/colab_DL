{
  "nbformat": 4,
  "nbformat_minor": 0,
  "metadata": {
    "colab": {
      "name": "TF_Queue.ipynb",
      "version": "0.3.2",
      "provenance": [],
      "include_colab_link": true
    },
    "kernelspec": {
      "name": "python3",
      "display_name": "Python 3"
    },
    "accelerator": "TPU"
  },
  "cells": [
    {
      "cell_type": "markdown",
      "metadata": {
        "id": "view-in-github",
        "colab_type": "text"
      },
      "source": [
        "<a href=\"https://colab.research.google.com/github/mmmylj/colab_DL/blob/master/TF_Queue.ipynb\" target=\"_parent\"><img src=\"https://colab.research.google.com/assets/colab-badge.svg\" alt=\"Open In Colab\"/></a>"
      ]
    },
    {
      "metadata": {
        "id": "Lc3og1SE5VuK",
        "colab_type": "code",
        "colab": {}
      },
      "cell_type": "code",
      "source": [
        "import tensorflow as tf"
      ],
      "execution_count": 0,
      "outputs": []
    },
    {
      "metadata": {
        "id": "V4wXbeRv5j_5",
        "colab_type": "text"
      },
      "cell_type": "markdown",
      "source": [
        "**Queue类型**  \n",
        "\n",
        "tf.FIFOQueue 按入列顺序出列的队列     \n",
        "tf.RandomShuffleQueue 随机顺序出列的队列     \n",
        "tf.PaddingFIFOQueue 以固定长度批量出列的队列    \n",
        "tf.PriorityQueue 带优先级出列的队列    "
      ]
    },
    {
      "metadata": {
        "id": "FUmzkZlN5hle",
        "colab_type": "code",
        "colab": {
          "base_uri": "https://localhost:8080/",
          "height": 377
        },
        "outputId": "d529e46d-cac9-4218-dcc2-e93c6b6d87f7"
      },
      "cell_type": "code",
      "source": [
        "que = tf.FIFOQueue(100, \"float\") #定于一个先入先出队列，队列容量为20，数据类型为float\n",
        "c = tf.Variable(0.0)\n",
        "op = tf.assign_add(c, tf.constant(1.0))\n",
        "enque_op = que.enqueue(c)\n",
        "\n",
        "qr = tf.train.QueueRunner(que, enqueue_ops=[op, enque_op])\n",
        "with tf.Session() as sess:\n",
        "    sess.run(tf.global_variables_initializer())\n",
        "    \n",
        "    coord = tf.train.Coordinator()\n",
        "    enqueue_threads = qr.create_threads(sess, coord = coord, start = True)\n",
        "    for i in range(0,10):\n",
        "        print(\"______________________________\")\n",
        "        print (sess.run(que.dequeue()))\n",
        "        \n",
        "    coord.request_stop() #关闭线程    "
      ],
      "execution_count": 11,
      "outputs": [
        {
          "output_type": "stream",
          "text": [
            "______________________________\n",
            "35.0\n",
            "______________________________\n",
            "81.0\n",
            "______________________________\n",
            "91.0\n",
            "______________________________\n",
            "95.0\n",
            "______________________________\n",
            "98.0\n",
            "______________________________\n",
            "103.0\n",
            "______________________________\n",
            "107.0\n",
            "______________________________\n",
            "112.0\n",
            "______________________________\n",
            "134.0\n",
            "______________________________\n",
            "143.0\n"
          ],
          "name": "stdout"
        }
      ]
    },
    {
      "metadata": {
        "id": "f3kwLMhcCL9r",
        "colab_type": "code",
        "colab": {}
      },
      "cell_type": "code",
      "source": [
        ""
      ],
      "execution_count": 0,
      "outputs": []
    }
  ]
}