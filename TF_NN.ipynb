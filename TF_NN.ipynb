{
  "nbformat": 4,
  "nbformat_minor": 0,
  "metadata": {
    "colab": {
      "name": "TF_NN.ipynb",
      "version": "0.3.2",
      "provenance": [],
      "include_colab_link": true
    },
    "kernelspec": {
      "name": "python3",
      "display_name": "Python 3"
    },
    "accelerator": "TPU"
  },
  "cells": [
    {
      "cell_type": "markdown",
      "metadata": {
        "id": "view-in-github",
        "colab_type": "text"
      },
      "source": [
        "<a href=\"https://colab.research.google.com/github/mmmylj/colab_DL/blob/master/TF_NN.ipynb\" target=\"_parent\"><img src=\"https://colab.research.google.com/assets/colab-badge.svg\" alt=\"Open In Colab\"/></a>"
      ]
    },
    {
      "metadata": {
        "id": "er3Hwr5mMVsO",
        "colab_type": "code",
        "colab": {}
      },
      "cell_type": "code",
      "source": [
        "import tensorflow as tf\n",
        "import numpy as np\n",
        "import python."
      ],
      "execution_count": 0,
      "outputs": []
    },
    {
      "metadata": {
        "id": "XQcYu3U9hfD3",
        "colab_type": "code",
        "colab": {}
      },
      "cell_type": "code",
      "source": [
        "def generate(sample_size, mean, cov, diff, regression):\n",
        "    num_classes = 3\n",
        "    samples_per_class = int(sample_size/2)\n",
        "    \n",
        "    X0 = np.random.multivariate_normal(mean, cov, samples_per_class)\n",
        "    Y0 = np.zeros(samples_per_class)\n",
        "    \n",
        "    for ci, d in enumerate(diff):\n",
        "        X1 = np.random.multivariate_normal(mean+d, cov, samples_per_class)\n",
        "        Y1 = ci*np.ones(samples_per_class)\n",
        "              \n",
        "        X0 = np.concatenate((X0,X1))\n",
        "        Y0 = np.concatenate((Y0,Y1))\n",
        "        \n",
        "    if regression == False: #one-hot\n",
        "        class_ind = [Y==calss_number for calss_number in range(num_class_ind)]\n",
        "        Y = np.asanyarray(np.hstack(class_ind), dtype=np.float32)\n",
        "    X, Y = np.random.shuffle(X0, Y0)\n",
        "    return X, Y"
      ],
      "execution_count": 0,
      "outputs": []
    },
    {
      "metadata": {
        "id": "WvDeGENVWArg",
        "colab_type": "code",
        "colab": {}
      },
      "cell_type": "code",
      "source": [
        "#generate database\n",
        "\n",
        "np.random.seed(1)\n",
        "input_dim = 2\n",
        "tran_x, tran_y = generate(2000, 3, [[3.0],[3.0,0]], False)\n",
        "aa = [np.argmax(l) for l in tran_y]\n",
        "colors = ['r' if l==0 else 'b' if l == 1 else 'y' for l in aa[:]]\n"
      ],
      "execution_count": 0,
      "outputs": []
    }
  ]
}