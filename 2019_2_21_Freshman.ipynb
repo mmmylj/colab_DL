{
  "nbformat": 4,
  "nbformat_minor": 0,
  "metadata": {
    "colab": {
      "name": "2019/2/21_Freshman",
      "version": "0.3.2",
      "provenance": [],
      "collapsed_sections": [],
      "toc_visible": true,
      "include_colab_link": true
    },
    "kernelspec": {
      "name": "python3",
      "display_name": "Python 3"
    },
    "accelerator": "GPU"
  },
  "cells": [
    {
      "cell_type": "markdown",
      "metadata": {
        "id": "view-in-github",
        "colab_type": "text"
      },
      "source": [
        "<a href=\"https://colab.research.google.com/github/mmmylj/colab_DL/blob/master/2019_2_21_Freshman.ipynb\" target=\"_parent\"><img src=\"https://colab.research.google.com/assets/colab-badge.svg\" alt=\"Open In Colab\"/></a>"
      ]
    },
    {
      "metadata": {
        "id": "er91SGGTVtF2",
        "colab_type": "text"
      },
      "cell_type": "markdown",
      "source": [
        "# 深度学习之TensorFlow_Chapter 4"
      ]
    },
    {
      "metadata": {
        "id": "qLCp40abSvGm",
        "colab_type": "code",
        "outputId": "90b22547-56d4-4ec8-9795-bc3105d4ff6c",
        "colab": {
          "base_uri": "https://localhost:8080/",
          "height": 127
        }
      },
      "cell_type": "code",
      "source": [
        "import tensorflow as tf\n",
        "\n",
        "var1 = tf.Variable(1.0, name = 'firstvar')\n",
        "print (\"var1: \", var1.name)\n",
        "var1  = tf.Variable(2.0, name = 'firstvar')\n",
        "print('var1：', var1.name)"
      ],
      "execution_count": 1,
      "outputs": [
        {
          "output_type": "stream",
          "text": [
            "WARNING:tensorflow:From /usr/local/lib/python3.6/dist-packages/tensorflow/python/framework/op_def_library.py:263: colocate_with (from tensorflow.python.framework.ops) is deprecated and will be removed in a future version.\n",
            "Instructions for updating:\n",
            "Colocations handled automatically by placer.\n",
            "var1:  firstvar:0\n",
            "var1： firstvar_1:0\n"
          ],
          "name": "stdout"
        }
      ]
    },
    {
      "metadata": {
        "id": "6_XBM0lgbcFi",
        "colab_type": "code",
        "outputId": "785acc90-420c-44dd-940a-8c98474ee7d3",
        "colab": {
          "base_uri": "https://localhost:8080/",
          "height": 53
        }
      },
      "cell_type": "code",
      "source": [
        "var2 = tf.Variable(3.0)\n",
        "print('var2: ', var2.name)\n",
        "var2 = tf.Variable(4.0)\n",
        "print('var2: ', var2.name)"
      ],
      "execution_count": 2,
      "outputs": [
        {
          "output_type": "stream",
          "text": [
            "var2:  Variable:0\n",
            "var2:  Variable_1:0\n"
          ],
          "name": "stdout"
        }
      ]
    },
    {
      "metadata": {
        "id": "BdNExmsYf87g",
        "colab_type": "code",
        "outputId": "51916d56-3d62-4911-ea25-2c3c50279d32",
        "colab": {
          "base_uri": "https://localhost:8080/",
          "height": 53
        }
      },
      "cell_type": "code",
      "source": [
        "with tf.Session() as sess:\n",
        "    sess.run(tf.global_variables_initializer())\n",
        "    print('var1 = ', var1.eval())\n",
        "    print('var2 = ', var2.eval())"
      ],
      "execution_count": 3,
      "outputs": [
        {
          "output_type": "stream",
          "text": [
            "var1 =  2.0\n",
            "var2 =  4.0\n"
          ],
          "name": "stdout"
        }
      ]
    },
    {
      "metadata": {
        "id": "29DtNfCL3GnE",
        "colab_type": "text"
      },
      "cell_type": "markdown",
      "source": [
        "Variable()，声明两次在内存中产生连个Variable，对于图来说，只有后面一次定义的Variable可用。"
      ]
    },
    {
      "metadata": {
        "id": "-LKblDoS0SqM",
        "colab_type": "code",
        "colab": {
          "base_uri": "https://localhost:8080/",
          "height": 53
        },
        "outputId": "73ed1853-877c-4067-96ec-a9a5dff06693"
      },
      "cell_type": "code",
      "source": [
        "with tf.variable_scope('test1'):\n",
        "    get_var1 = tf.get_variable('firstvar', [1], initializer=tf.constant_initializer(0.3))\n",
        "    with tf.variable_scope('test2'):\n",
        "        ger_var2 = tf.get_variable('firstvar', [1], initializer=tf.constant_initializer(0.3))\n",
        "print ('get_var1:', get_var1.name)\n",
        "print ('get_var1:', get_var1.name)"
      ],
      "execution_count": 4,
      "outputs": [
        {
          "output_type": "stream",
          "text": [
            "get_var1: test1/firstvar:0\n",
            "get_var1: test1/firstvar:0\n"
          ],
          "name": "stdout"
        }
      ]
    },
    {
      "metadata": {
        "id": "YWcwCqOKicFz",
        "colab_type": "text"
      },
      "cell_type": "markdown",
      "source": [
        "get_variable() , if name same will rise a error"
      ]
    },
    {
      "metadata": {
        "colab_type": "code",
        "outputId": "93211a0e-1932-4990-e1ee-019d64803874",
        "id": "q0y7BB1atpNh",
        "colab": {
          "base_uri": "https://localhost:8080/",
          "height": 53
        }
      },
      "cell_type": "code",
      "source": [
        "with tf.variable_scope(\"test1\", reuse=True):\n",
        "    var3 = tf.get_variable(\"firstvar\", [1], initializer=tf.constant_initializer(0.2))\n",
        "#   var4 = tf.get_variable(\"firstvar\", [1], initializer=tf.constant_initializer(0.2))\n",
        "    with tf.variable_scope(\"test2\", reuse=True):\n",
        "        var4 = tf.get_variable(\"firstvar\", [1], initializer=tf.constant_initializer(0.3))\n",
        "print (\"var3: \", var3.name)\n",
        "print (\"var4: \", var4.name)"
      ],
      "execution_count": 5,
      "outputs": [
        {
          "output_type": "stream",
          "text": [
            "var3:  test1/firstvar:0\n",
            "var4:  test1/test2/firstvar:0\n"
          ],
          "name": "stdout"
        }
      ]
    },
    {
      "metadata": {
        "id": "3Y_uvEESk4sC",
        "colab_type": "code",
        "colab": {}
      },
      "cell_type": "code",
      "source": [
        "with tf.variable_scope(\"foo\") as scope:\n",
        "    v = tf.get_variable(\"v\", [1])\n",
        "    scope.reuse_variables()\n",
        "    v1 = tf.get_variable(\"v\", [1])\n",
        "assert v1 == v"
      ],
      "execution_count": 0,
      "outputs": []
    },
    {
      "metadata": {
        "id": "8Km_1YhersYN",
        "colab_type": "code",
        "colab": {}
      },
      "cell_type": "code",
      "source": [
        ""
      ],
      "execution_count": 0,
      "outputs": []
    }
  ]
}