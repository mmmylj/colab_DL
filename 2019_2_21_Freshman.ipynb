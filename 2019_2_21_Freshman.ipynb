{
  "nbformat": 4,
  "nbformat_minor": 0,
  "metadata": {
    "colab": {
      "name": "2019/2/21_Freshman",
      "version": "0.3.2",
      "provenance": [],
      "collapsed_sections": [],
      "include_colab_link": true
    },
    "kernelspec": {
      "name": "python3",
      "display_name": "Python 3"
    },
    "accelerator": "GPU"
  },
  "cells": [
    {
      "cell_type": "markdown",
      "metadata": {
        "id": "view-in-github",
        "colab_type": "text"
      },
      "source": [
        "<a href=\"https://colab.research.google.com/github/mmmylj/colab_DL/blob/master/2019_2_21_Freshman.ipynb\" target=\"_parent\"><img src=\"https://colab.research.google.com/assets/colab-badge.svg\" alt=\"Open In Colab\"/></a>"
      ]
    },
    {
      "metadata": {
        "id": "er91SGGTVtF2",
        "colab_type": "text"
      },
      "cell_type": "markdown",
      "source": [
        "# 深度学习之TensorFlow_Chapter 4"
      ]
    },
    {
      "metadata": {
        "id": "qLCp40abSvGm",
        "colab_type": "code",
        "colab": {
          "base_uri": "https://localhost:8080/",
          "height": 107
        },
        "outputId": "9b423901-e8dc-4c4c-8a6d-b8ea93a42e20"
      },
      "cell_type": "code",
      "source": [
        "import tensorflow as tf\n",
        "\n",
        "var1 = tf.Variable(1.0, name = 'firstvar')\n",
        "print (\"var1: \", var1.name)\n",
        "var1  = tf.Variable(2.0, name = 'firstvar')\n",
        "print('var1：', var1.name)"
      ],
      "execution_count": 2,
      "outputs": [
        {
          "output_type": "stream",
          "text": [
            "WARNING:tensorflow:From /usr/local/lib/python3.6/dist-packages/tensorflow/python/framework/op_def_library.py:263: colocate_with (from tensorflow.python.framework.ops) is deprecated and will be removed in a future version.\n",
            "Instructions for updating:\n",
            "Colocations handled automatically by placer.\n",
            "var1:  firstvar:0\n",
            "var1： firstvar_1:0\n"
          ],
          "name": "stdout"
        }
      ]
    },
    {
      "metadata": {
        "id": "6_XBM0lgbcFi",
        "colab_type": "code",
        "colab": {
          "base_uri": "https://localhost:8080/",
          "height": 53
        },
        "outputId": "4e61a5ad-54e7-40f3-a1a1-ef770b2e89ad"
      },
      "cell_type": "code",
      "source": [
        "var2 = tf.Variable(3.0)\n",
        "print('var2: ', var2.name)\n",
        "var2 = tf.Variable(4.0)\n",
        "print('var2: ', var2.name)"
      ],
      "execution_count": 3,
      "outputs": [
        {
          "output_type": "stream",
          "text": [
            "var2:  Variable:0\n",
            "var2:  Variable_1:0\n"
          ],
          "name": "stdout"
        }
      ]
    },
    {
      "metadata": {
        "id": "BdNExmsYf87g",
        "colab_type": "code",
        "outputId": "6502e415-b753-4ffa-b50f-1541958cca64",
        "colab": {
          "base_uri": "https://localhost:8080/",
          "height": 53
        }
      },
      "cell_type": "code",
      "source": [
        "with tf.Session() as sess:\n",
        "    sess.run(tf.global_variables_initializer())\n",
        "    print('var1 = ', var1.eval())\n",
        "    print('var2 = ', var2.eval())"
      ],
      "execution_count": 4,
      "outputs": [
        {
          "output_type": "stream",
          "text": [
            "var1 =  2.0\n",
            "var2 =  4.0\n"
          ],
          "name": "stdout"
        }
      ]
    },
    {
      "metadata": {
        "id": "29DtNfCL3GnE",
        "colab_type": "text"
      },
      "cell_type": "markdown",
      "source": [
        "Variable()，声明两次在内存中产生连个Variable，对于图来说，只有后面一次定义的Variable可用。"
      ]
    },
    {
      "metadata": {
        "id": "-LKblDoS0SqM",
        "colab_type": "code",
        "colab": {}
      },
      "cell_type": "code",
      "source": [
        "get_var1 = tf.get_variable('firstvar', [1], initializer=tf.constant_initializer(0.3))\n",
        "print ('get_var1:', get_var1.name)\n",
        "ger_var2 = tf.get_variable('firstvar', [1], initializer=tf.constant_initializer(0.3))\n",
        "print ('get_var1:', get_var1.name)"
      ],
      "execution_count": 0,
      "outputs": []
    }
  ]
}