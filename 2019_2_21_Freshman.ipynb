{
  "nbformat": 4,
  "nbformat_minor": 0,
  "metadata": {
    "colab": {
      "name": "2019/2/21_Freshman",
      "version": "0.3.2",
      "provenance": [],
      "collapsed_sections": [],
      "toc_visible": true,
      "include_colab_link": true
    },
    "kernelspec": {
      "name": "python3",
      "display_name": "Python 3"
    },
    "accelerator": "GPU"
  },
  "cells": [
    {
      "cell_type": "markdown",
      "metadata": {
        "id": "view-in-github",
        "colab_type": "text"
      },
      "source": [
        "<a href=\"https://colab.research.google.com/github/mmmylj/colab_DL/blob/master/2019_2_21_Freshman.ipynb\" target=\"_parent\"><img src=\"https://colab.research.google.com/assets/colab-badge.svg\" alt=\"Open In Colab\"/></a>"
      ]
    },
    {
      "metadata": {
        "id": "er91SGGTVtF2",
        "colab_type": "text"
      },
      "cell_type": "markdown",
      "source": [
        "# 深度学习之TensorFlow_Chapter 4"
      ]
    },
    {
      "metadata": {
        "id": "qLCp40abSvGm",
        "colab_type": "code",
        "outputId": "be400e17-063e-4cf4-b64e-7876d5709d6f",
        "colab": {
          "base_uri": "https://localhost:8080/",
          "height": 127
        }
      },
      "cell_type": "code",
      "source": [
        "import tensorflow as tf\n",
        "\n",
        "var1 = tf.Variable(1.0, name = 'firstvar')\n",
        "print (\"var1: \", var1.name)\n",
        "var1  = tf.Variable(2.0, name = 'firstvar')\n",
        "print('var1：', var1.name)"
      ],
      "execution_count": 1,
      "outputs": [
        {
          "output_type": "stream",
          "text": [
            "WARNING:tensorflow:From /usr/local/lib/python3.6/dist-packages/tensorflow/python/framework/op_def_library.py:263: colocate_with (from tensorflow.python.framework.ops) is deprecated and will be removed in a future version.\n",
            "Instructions for updating:\n",
            "Colocations handled automatically by placer.\n",
            "var1:  firstvar:0\n",
            "var1： firstvar_1:0\n"
          ],
          "name": "stdout"
        }
      ]
    },
    {
      "metadata": {
        "id": "6_XBM0lgbcFi",
        "colab_type": "code",
        "outputId": "46222065-f68f-4de0-ef20-daf5b34c27ee",
        "colab": {
          "base_uri": "https://localhost:8080/",
          "height": 53
        }
      },
      "cell_type": "code",
      "source": [
        "var2 = tf.Variable(3.0)\n",
        "print('var2: ', var2.name)\n",
        "var2 = tf.Variable(4.0)\n",
        "print('var2: ', var2.name)"
      ],
      "execution_count": 2,
      "outputs": [
        {
          "output_type": "stream",
          "text": [
            "var2:  Variable:0\n",
            "var2:  Variable_1:0\n"
          ],
          "name": "stdout"
        }
      ]
    },
    {
      "metadata": {
        "id": "BdNExmsYf87g",
        "colab_type": "code",
        "outputId": "789a28c1-9389-4846-a873-0756670446a7",
        "colab": {
          "base_uri": "https://localhost:8080/",
          "height": 53
        }
      },
      "cell_type": "code",
      "source": [
        "with tf.Session() as sess:\n",
        "    sess.run(tf.global_variables_initializer())\n",
        "    print('var1 = ', var1.eval())\n",
        "    print('var2 = ', var2.eval())"
      ],
      "execution_count": 3,
      "outputs": [
        {
          "output_type": "stream",
          "text": [
            "var1 =  2.0\n",
            "var2 =  4.0\n"
          ],
          "name": "stdout"
        }
      ]
    },
    {
      "metadata": {
        "id": "29DtNfCL3GnE",
        "colab_type": "text"
      },
      "cell_type": "markdown",
      "source": [
        "Variable()，声明两次在内存中产生连个Variable，对于图来说，只有后面一次定义的Variable可用。"
      ]
    },
    {
      "metadata": {
        "id": "-LKblDoS0SqM",
        "colab_type": "code",
        "outputId": "1b378f7d-7f60-4846-bfb6-412e9ad4229f",
        "colab": {
          "base_uri": "https://localhost:8080/",
          "height": 53
        }
      },
      "cell_type": "code",
      "source": [
        "with tf.variable_scope('test1'):\n",
        "    get_var1 = tf.get_variable('firstvar', [1], initializer=tf.constant_initializer(0.3))\n",
        "    with tf.variable_scope('test2'):\n",
        "        ger_var2 = tf.get_variable('firstvar', [1], initializer=tf.constant_initializer(0.3))\n",
        "print ('get_var1:', get_var1.name)\n",
        "print ('get_var1:', get_var1.name)"
      ],
      "execution_count": 4,
      "outputs": [
        {
          "output_type": "stream",
          "text": [
            "get_var1: test1/firstvar:0\n",
            "get_var1: test1/firstvar:0\n"
          ],
          "name": "stdout"
        }
      ]
    },
    {
      "metadata": {
        "id": "YWcwCqOKicFz",
        "colab_type": "text"
      },
      "cell_type": "markdown",
      "source": [
        "get_variable() , if name same will rise a error"
      ]
    },
    {
      "metadata": {
        "colab_type": "code",
        "outputId": "a81cc692-2d35-42f3-a9bd-dcca3a8a5484",
        "id": "q0y7BB1atpNh",
        "colab": {
          "base_uri": "https://localhost:8080/",
          "height": 53
        }
      },
      "cell_type": "code",
      "source": [
        "with tf.variable_scope(\"test1\", reuse=True):\n",
        "    var3 = tf.get_variable(\"firstvar\", [1], initializer=tf.constant_initializer(0.2))\n",
        "#   var4 = tf.get_variable(\"firstvar\", [1], initializer=tf.constant_initializer(0.2))\n",
        "    with tf.variable_scope(\"test2\", reuse=True):\n",
        "        var4 = tf.get_variable(\"firstvar\", [1], initializer=tf.constant_initializer(0.3))\n",
        "print (\"var3: \", var3.name)\n",
        "print (\"var4: \", var4.name)"
      ],
      "execution_count": 5,
      "outputs": [
        {
          "output_type": "stream",
          "text": [
            "var3:  test1/firstvar:0\n",
            "var4:  test1/test2/firstvar:0\n"
          ],
          "name": "stdout"
        }
      ]
    },
    {
      "metadata": {
        "id": "OCdPW9PpQ-kQ",
        "colab_type": "text"
      },
      "cell_type": "markdown",
      "source": [
        "ruse flage is inherited !"
      ]
    },
    {
      "metadata": {
        "id": "pzjzVk8xWr3y",
        "colab_type": "code",
        "colab": {
          "base_uri": "https://localhost:8080/",
          "height": 35
        },
        "outputId": "c1527ae9-97ec-42a2-cb29-08d33a422f74"
      },
      "cell_type": "code",
      "source": [
        "tfe = tf.contrib.eager\n",
        "tfe.enable_eager_execution()\n",
        "x = [[2.]]\n",
        "m = tf.matmul(x, x)\n",
        "print(m)"
      ],
      "execution_count": 8,
      "outputs": [
        {
          "output_type": "stream",
          "text": [
            "tf.Tensor([[4.]], shape=(1, 1), dtype=float32)\n"
          ],
          "name": "stdout"
        }
      ]
    },
    {
      "metadata": {
        "id": "0FPhfG9ClJRs",
        "colab_type": "text"
      },
      "cell_type": "markdown",
      "source": [
        "Eager(动态图)：  tf.contrib.eager 模块包含可用于 Eager Execution 和 Graph Execution "
      ]
    }
  ]
}